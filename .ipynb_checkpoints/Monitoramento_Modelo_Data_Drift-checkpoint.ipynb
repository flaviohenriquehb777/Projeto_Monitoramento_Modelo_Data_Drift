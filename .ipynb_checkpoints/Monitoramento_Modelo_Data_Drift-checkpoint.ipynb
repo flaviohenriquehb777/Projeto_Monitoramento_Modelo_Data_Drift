{
 "cells": [
  {
   "cell_type": "code",
   "execution_count": 1,
   "id": "c9ed5506-6d62-4d2e-b98d-49623ea6909c",
   "metadata": {},
   "outputs": [],
   "source": [
    "import numpy as np\n",
    "import pandas as pd\n",
    "import matplotlib.pyplot as plt\n",
    "import matplotlib.animation as animation\n",
    "import random\n",
    "from datetime import datetime\n",
    "import warnings\n",
    "\n",
    "warnings.filterwarnings('ignore')"
   ]
  },
  {
   "cell_type": "code",
   "execution_count": 2,
   "id": "8d0b3cb4-fdb4-4737-9ee1-6947df0a99c2",
   "metadata": {},
   "outputs": [],
   "source": [
    "# --- Configurações ---\n",
    "\n",
    "TEMPO_SIMULACAO = 150  # Número de \"passos\" de tempo\n",
    "INTERVALO_ANIMACAO_MS = 100\n",
    "NOME_ARQUIVO_ANIMACAO = \"monitoramento_drift.gif\"\n",
    "LIMITE_ALERTA_DRIFT = 0.75\n",
    "TEMPOS_DE_DRIFT = [50, 100]  # Passos de tempo onde o drift ocorrerá"
   ]
  },
  {
   "cell_type": "code",
   "execution_count": 3,
   "id": "92d7bb7b-8eef-4eac-9c91-1f7f0e6764b8",
   "metadata": {},
   "outputs": [],
   "source": [
    "# --- Simulação de Desempenho do Modelo ---\n",
    "\n",
    "def simular_desempenho_drift_impactante(tempo_simulacao, tempos_de_drift, limite_alerta):\n",
    "    \"\"\"Simula o desempenho de um modelo com quedas dramáticas no data drift.\"\"\"\n",
    "    desempenho = np.zeros(tempo_simulacao)\n",
    "    desempenho[0] = 0.92  # Desempenho inicial alto\n",
    "    for t in range(1, tempo_simulacao):\n",
    "        change = random.uniform(-0.005, 0.005)\n",
    "        if t in tempos_de_drift:\n",
    "            change -= random.uniform(0.08, 0.15)  # Queda BEM mais acentuada no drift\n",
    "        desempenho[t] = np.clip(desempenho[t-1] + change, 0.5, 0.95)\n",
    "    return pd.Series(desempenho)\n",
    "\n",
    "df_desempenho = simular_desempenho_drift_impactante(TEMPO_SIMULACAO, TEMPOS_DE_DRIFT, LIMITE_ALERTA_DRIFT)"
   ]
  },
  {
   "cell_type": "code",
   "execution_count": 4,
   "id": "cc69ab78-dde0-4a37-bb08-8ff0d6f7a410",
   "metadata": {},
   "outputs": [],
   "source": [
    "# 01 --- Geração da Animação ---\n",
    "\n",
    "fig, ax = plt.subplots(figsize=(10, 6))\n",
    "ax.set_xlim(0, TEMPO_SIMULACAO)\n",
    "ax.set_ylim(0.6, 1.0)\n",
    "ax.set_xlabel(\"Tempo (Simulado)\")\n",
    "ax.set_ylabel(\"Acurácia\")\n",
    "ax.set_title(\"Monitoramento de Modelo com Data Drift\")\n",
    "linha, = ax.plot([], [], color='royalblue', linewidth=2, label='Acurácia')\n",
    "linha_alerta, = ax.plot([0, TEMPO_SIMULACAO], [LIMITE_ALERTA_DRIFT, LIMITE_ALERTA_DRIFT], color='red', linestyle='--', label=f'Limite de Alerta ({LIMITE_ALERTA_DRIFT:.2f})')\n",
    "ponto_alerta = ax.scatter([], [], color='red', s=100, alpha=0) # Inicialmente invisível\n",
    "texto_alerta = ax.text(TEMPO_SIMULACAO * 0.05, 0.85, '', color='red', fontsize=12, fontweight='bold')\n",
    "alerta_visivel = False # Variável para controlar a visibilidade do alerta\n",
    "\n",
    "plt.close()"
   ]
  },
  {
   "cell_type": "code",
   "execution_count": 5,
   "id": "95503d38-dae0-413e-a03a-4faab022bfb7",
   "metadata": {},
   "outputs": [],
   "source": [
    "# 02 --- Geração da Animação ---\n",
    "\n",
    "def init():\n",
    "    linha.set_data([], [])\n",
    "    ponto_alerta.set_offsets(np.array([[0, 0]]))\n",
    "    ponto_alerta.set_alpha(0)\n",
    "    texto_alerta.set_text('')\n",
    "    return linha, ponto_alerta, texto_alerta"
   ]
  },
  {
   "cell_type": "code",
   "execution_count": 6,
   "id": "f9bb37a8-2ef2-4460-a963-0824e71ba050",
   "metadata": {},
   "outputs": [],
   "source": [
    "# 03 --- Geração da Animação ---\n",
    "\n",
    "def animate(i):\n",
    "    global alerta_visivel # Permite modificar a variável global\n",
    "\n",
    "    x = df_desempenho.index[:i+1]\n",
    "    y = df_desempenho.values[:i+1]\n",
    "    linha.set_data(x, y)\n",
    "\n",
    "    if not alerta_visivel and y[-1] < LIMITE_ALERTA_DRIFT:\n",
    "        alerta_visivel = True # Ativa o alerta na primeira vez que a condição é atendida\n",
    "        ponto_alerta.set_offsets(np.array([[x[-1], y[-1]]]))\n",
    "        ponto_alerta.set_alpha(1)\n",
    "        texto_alerta.set_text('⚠️ ALERTA DE DRIFT!')\n",
    "    elif alerta_visivel: # Mantém o alerta visível depois de ativado\n",
    "        ponto_alerta.set_offsets(np.array([[x[-1], y[-1]]]))\n",
    "        ponto_alerta.set_alpha(1)\n",
    "        texto_alerta.set_text('⚠️ ALERTA DE DRIFT!')\n",
    "    else:\n",
    "        ponto_alerta.set_alpha(0)\n",
    "        texto_alerta.set_text('')\n",
    "\n",
    "    return linha, ponto_alerta, texto_alerta"
   ]
  },
  {
   "cell_type": "code",
   "execution_count": 7,
   "id": "32f7abdd-c0b6-4506-8831-143cb272715f",
   "metadata": {},
   "outputs": [
    {
     "name": "stdout",
     "output_type": "stream",
     "text": [
      "Animação salva como monitoramento_drift.gif\n"
     ]
    }
   ],
   "source": [
    "# Gerando e salvando a animação\n",
    "\n",
    "ani = animation.FuncAnimation(fig, animate, frames=TEMPO_SIMULACAO, interval=INTERVALO_ANIMACAO_MS, blit=True)\n",
    "\n",
    "ani.save(NOME_ARQUIVO_ANIMACAO, writer='ffmpeg')\n",
    "\n",
    "print(f\"Animação salva como {NOME_ARQUIVO_ANIMACAO}\")"
   ]
  }
 ],
 "metadata": {
  "kernelspec": {
   "display_name": "Python 3 (ipykernel)",
   "language": "python",
   "name": "python3"
  },
  "language_info": {
   "codemirror_mode": {
    "name": "ipython",
    "version": 3
   },
   "file_extension": ".py",
   "mimetype": "text/x-python",
   "name": "python",
   "nbconvert_exporter": "python",
   "pygments_lexer": "ipython3",
   "version": "3.12.3"
  }
 },
 "nbformat": 4,
 "nbformat_minor": 5
}
